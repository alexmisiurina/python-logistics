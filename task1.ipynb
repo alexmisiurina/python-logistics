{
 "cells": [
  {
   "cell_type": "code",
   "execution_count": 34,
   "metadata": {},
   "outputs": [],
   "source": [
    "data = open(\"data.txt\", \"r\", encoding=\"utf-8\").read().split(\"\\n\")\n",
    "list = []\n",
    "for a in data:\n",
    "    list.append(a[a.find(\".\")+2:].split(\": \"))\n",
    "\n",
    "newlist = sorted(list, key=lambda a: a[0])\n",
    "newdata = open(\"output.csv\", \"a\", encoding=\"utf-8\")\n",
    "newdata.write(\"name,grade\\n\")\n",
    "for a in newlist:\n",
    "    newdata.write(\",\".join(a)+\"\\n\")"
   ]
  },
  {
   "cell_type": "code",
   "execution_count": 20,
   "metadata": {},
   "outputs": [],
   "source": [
    "data = open(\"input.txt\", \"r\", encoding=\"utf-8\").read().split(\"\\n\")\n",
    "list = []\n",
    "for a in data:\n",
    "    list.append(a.split(\" - \"))\n",
    "\n",
    "list = sorted(list, key=lambda a: float(a[0][6:]))\n",
    "\n",
    "newdata = open(\"output.txt\", \"a\")\n",
    "for a in list:\n",
    "    newdata.write(\" - \".join(a)+\"\\n\")\n",
    "\n"
   ]
  },
  {
   "cell_type": "code",
   "execution_count": null,
   "metadata": {},
   "outputs": [],
   "source": [
    "words = open(\"input.txt\").read().split()\n",
    "lines = []\n",
    "line = \"\"\n",
    "for word in words:\n",
    "    if len(line + \" \" + word) <= 20:\n",
    "        line += \" \" + word\n",
    "    else:\n",
    "        lines.append(line.strip())\n",
    "        line = word\n",
    "lines.append(line.strip())\n",
    "open(\"output.txt\", \"w\").write(\"\\n\".join(lines))"
   ]
  },
  {
   "cell_type": "code",
   "execution_count": 29,
   "metadata": {},
   "outputs": [],
   "source": [
    "input = open(\"input.txt\", \"r\", encoding=\"utf-8\").read()\n",
    "input = ''.join(char for char in input if char.isalnum() or char == ' ') # remove non alpha-numeric\n",
    "\n",
    "count = {}\n",
    "for a in input.split(\" \"):\n",
    "    if a not in count:\n",
    "        count[a] = 1\n",
    "    else:\n",
    "        count[a] += 1\n",
    "list = sorted(count.items(), key=lambda a: a[1], reverse=True)\n",
    "\n",
    "newfile = open(\"output.txt\", \"a\")\n",
    "for a in list:\n",
    "    newfile.write(\",\".join(a))\n"
   ]
  },
  {
   "cell_type": "code",
   "execution_count": null,
   "metadata": {},
   "outputs": [],
   "source": []
  }
 ],
 "metadata": {
  "kernelspec": {
   "display_name": "Python 3",
   "language": "python",
   "name": "python3"
  },
  "language_info": {
   "codemirror_mode": {
    "name": "ipython",
    "version": 3
   },
   "file_extension": ".py",
   "mimetype": "text/x-python",
   "name": "python",
   "nbconvert_exporter": "python",
   "pygments_lexer": "ipython3",
   "version": "3.10.2"
  },
  "orig_nbformat": 4
 },
 "nbformat": 4,
 "nbformat_minor": 2
}
