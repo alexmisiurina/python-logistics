{
 "cells": [
  {
   "cell_type": "code",
   "execution_count": null,
   "metadata": {},
   "outputs": [],
   "source": [
    "import requests\n",
    "from bs4 import BeautifulSoup\n",
    "url = 'https://emojipedia.org/search/'\n",
    "list_of_categories = [\"nature\", \"music\", \"science\"]\n",
    "list_of_emojis = []\n",
    "count = 0\n",
    "dict_of_count = {}\n",
    "for category in list_of_categories:\n",
    "    params = {'q': category}\n",
    "    response = requests.get(url, params=params)\n",
    "    soup = BeautifulSoup(response.text, 'html.parser')\n",
    "    divsoup = soup.find('ol', class_='search-results')\n",
    "    items = divsoup.find_all('a')\n",
    "    for item in items:\n",
    "        list_of_emojis.append(item.text)\n",
    "        count +=1\n",
    "    print(\"The \" + str(category) + \" category has \" + str(count) + \" emojis.\")\n",
    "    for emoji in list_of_emojis:\n",
    "        print(emoji)\n",
    "        response = requests.get(\"https://emojipedia.org/\"+emoji[2:].strip().replace(\" \", \"-\").lower())\n",
    "        if response.status_code != 404:\n",
    "            soup = BeautifulSoup(response.text, 'html.parser')\n",
    "            divsoup = soup.find(class_='description')\n",
    "            print(divsoup.find(\"p\").text)\n",
    "        else:\n",
    "            print(\"No description\")\n",
    "        print() # to add some separation\n",
    "    \n",
    "    print() # to add some separation\n",
    "    list_of_emojis = []\n",
    "    count = 0"
   ]
  }
 ],
 "metadata": {
  "kernelspec": {
   "display_name": "Python 3",
   "language": "python",
   "name": "python3"
  },
  "language_info": {
   "codemirror_mode": {
    "name": "ipython",
    "version": 3
   },
   "file_extension": ".py",
   "mimetype": "text/x-python",
   "name": "python",
   "nbconvert_exporter": "python",
   "pygments_lexer": "ipython3",
   "version": "3.10.2"
  },
  "orig_nbformat": 4
 },
 "nbformat": 4,
 "nbformat_minor": 2
}
