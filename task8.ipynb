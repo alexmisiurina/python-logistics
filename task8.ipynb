{
 "cells": [
  {
   "cell_type": "code",
   "execution_count": 13,
   "metadata": {},
   "outputs": [
    {
     "name": "stdout",
     "output_type": "stream",
     "text": [
      "Average salary is: 418914.67\n"
     ]
    }
   ],
   "source": [
    "import requests\n",
    "import random\n",
    "import pandas as pd\n",
    "\n",
    "def generate_users(data_len):\n",
    "    url = \"https://randomuser.me/api/\"\n",
    "    params = {'results': data_len}\n",
    "    response = requests.get(url, params=params)\n",
    "    data = response.json()\n",
    "    result = list(map(lambda x: x['name'], data['results']))  \n",
    "\n",
    "    for x in range(data_len):\n",
    "        result[x][\"salary\"] = random.randint(100000, 999999)\n",
    "\n",
    "    df = pd.DataFrame(result)\n",
    "    print(result)\n",
    "    df.to_csv(\"test_file.csv\", index=False)\n",
    "\n",
    "\n",
    "def load_users():\n",
    "    df = pd.read_csv(\"test_file.csv\")\n",
    "    \n",
    "    print(f'Average salary is: {round(df[\"salary\"].mean(), 2)}')\n"
   ]
  }
 ],
 "metadata": {
  "kernelspec": {
   "display_name": "Python 3",
   "language": "python",
   "name": "python3"
  },
  "language_info": {
   "codemirror_mode": {
    "name": "ipython",
    "version": 3
   },
   "file_extension": ".py",
   "mimetype": "text/x-python",
   "name": "python",
   "nbconvert_exporter": "python",
   "pygments_lexer": "ipython3",
   "version": "3.10.2"
  },
  "orig_nbformat": 4
 },
 "nbformat": 4,
 "nbformat_minor": 2
}
