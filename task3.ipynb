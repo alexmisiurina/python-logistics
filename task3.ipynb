{
 "cells": [
  {
   "cell_type": "code",
   "execution_count": null,
   "metadata": {},
   "outputs": [],
   "source": [
    "# I looked at their source source code and there are only 2 types of jokes sooooo\n",
    "\n",
    "import requests\n",
    "r = requests.get(\"https://official-joke-api.appspot.com/jokes/programming/ten\").json()\n",
    "for a in r:\n",
    "    print(f'{a[\"type\"]}: {a[\"setup\"]} {a[\"punchline\"]}')\n",
    "\n",
    "r = requests.get(\"https://official-joke-api.appspot.com/jokes/general/ten\").json()\n",
    "for a in r:\n",
    "    print(f'{a[\"type\"]}: {a[\"setup\"]} {a[\"punchline\"]}')"
   ]
  },
  {
   "cell_type": "code",
   "execution_count": null,
   "metadata": {},
   "outputs": [],
   "source": [
    "import requests\n",
    "def convert(val, currency1, currency2):\n",
    "    return val*requests.get(\"https://open.er-api.com/v6/latest/\"+currency1).json()[\"rates\"][currency2]"
   ]
  },
  {
   "cell_type": "code",
   "execution_count": null,
   "metadata": {},
   "outputs": [],
   "source": [
    "import requests\n",
    "def count():\n",
    "    return requests.get(\"https://api.publicapis.org/entries\").json()[\"count\"]\n",
    "\n",
    "def count_category(category):\n",
    "    entries = requests.get(\"https://api.publicapis.org/entries\").json()[\"entries\"]\n",
    "    val = 0\n",
    "    for a in entries:\n",
    "        if a[\"Category\"] == category:\n",
    "            val += 1\n",
    "    return val  \n"
   ]
  },
  {
   "cell_type": "code",
   "execution_count": null,
   "metadata": {},
   "outputs": [],
   "source": [
    "import datetime\n",
    "import requests\n",
    "\n",
    "def calendar():\n",
    "    list = []\n",
    "    r = requests.get(\"https://kontests.net/api/v1/codeforces\").json()\n",
    "    for event in r:\n",
    "        if datetime.datetime.strptime(event[\"start_time\"], \"%Y-%m-%dT%H:%M:%S.%fZ\") > datetime.datetime.now() and datetime.datetime.strptime(event[\"start_time\"], \"%Y-%m-%dT%H:%M:%S.%fZ\") < datetime.datetime.now() + datetime.timedelta(days=15):\n",
    "            list.append(event)\n",
    "\n",
    "    for a in list:\n",
    "        print(f'Name: {a[\"name\"]}\\nStart Time: {a[\"start_time\"]}\\nLink: {a[\"url\"]}\\n\\n')\n",
    "\n",
    "calendar()"
   ]
  },
  {
   "cell_type": "code",
   "execution_count": null,
   "metadata": {},
   "outputs": [],
   "source": [
    "import requests\n",
    "\n",
    "def count_salary(currency):\n",
    "    working_days = \"\"\n",
    "    working_days += requests.get(\"https://isdayoff.ru/api/getdata?year=2022&month=3\").text\n",
    "    working_days += requests.get(\"https://isdayoff.ru/api/getdata?year=2022&month=4\").text\n",
    "    working_days += requests.get(\"https://isdayoff.ru/api/getdata?year=2022&month=5\").text\n",
    "    working_days = working_days.count(\"0\")\n",
    "\n",
    "    print(f'Ivan Ivanov: {working_days*convert(1000, \"USD\", currency)} {currency}')\n",
    "    print(f'Alex Random: {working_days*convert(1000, \"EUR\", currency)} {currency}')\n",
    "    print(f'Athur Smith: {working_days*convert(1000, \"RUB\", currency)} {currency}')\n",
    "\n",
    "count_salary(\"USD\")"
   ]
  }
 ],
 "metadata": {
  "kernelspec": {
   "display_name": "Python 3",
   "language": "python",
   "name": "python3"
  },
  "language_info": {
   "codemirror_mode": {
    "name": "ipython",
    "version": 3
   },
   "file_extension": ".py",
   "mimetype": "text/x-python",
   "name": "python",
   "nbconvert_exporter": "python",
   "pygments_lexer": "ipython3",
   "version": "3.10.2"
  },
  "orig_nbformat": 4
 },
 "nbformat": 4,
 "nbformat_minor": 2
}
